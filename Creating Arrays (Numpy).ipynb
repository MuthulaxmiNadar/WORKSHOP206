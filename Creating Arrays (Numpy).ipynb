{
 "cells": [
  {
   "cell_type": "code",
   "execution_count": 1,
   "metadata": {},
   "outputs": [
    {
     "name": "stdout",
     "output_type": "stream",
     "text": [
      "Array is of type:  <class 'numpy.ndarray'>\n",
      "No. of dimensions:  2\n",
      "Shape of array:  (2, 3)\n",
      "Size of array:  6\n",
      "Array stores elements of type:  <U11\n"
     ]
    }
   ],
   "source": [
    "import numpy as np \n",
    "  \n",
    "# Creating array object \n",
    "arr = np.array( [[ 1, 'a', 3], \n",
    "                 [ 4, 'b', 5]] ) \n",
    "  \n",
    "# Printing type of arr object \n",
    "print(\"Array is of type: \", type(arr)) \n",
    "  \n",
    "# Printing array dimensions (axes) \n",
    "print(\"No. of dimensions: \", arr.ndim) \n",
    "  \n",
    "# Printing shape of array \n",
    "print(\"Shape of array: \", arr.shape) \n",
    "  \n",
    "# Printing size (total number of elements) of array \n",
    "print(\"Size of array: \", arr.size) \n",
    "  \n",
    "# Printing type of elements in array \n",
    "print(\"Array stores elements of type: \", arr.dtype) \n"
   ]
  },
  {
   "cell_type": "code",
   "execution_count": 2,
   "metadata": {},
   "outputs": [],
   "source": [
    "arr = np.array( [[ 1, 2, 3], \n",
    "                 [ 4, 3, 5]] ) "
   ]
  },
  {
   "cell_type": "code",
   "execution_count": 3,
   "metadata": {},
   "outputs": [
    {
     "name": "stdout",
     "output_type": "stream",
     "text": [
      "Array stores elements of type:  int32\n"
     ]
    }
   ],
   "source": [
    "print(\"Array stores elements of type: \", arr.dtype) "
   ]
  },
  {
   "cell_type": "code",
   "execution_count": 4,
   "metadata": {},
   "outputs": [
    {
     "name": "stdout",
     "output_type": "stream",
     "text": [
      "Array created using passed list:\n",
      " [[1. 2. 4.]\n",
      " [5. 8. 7.]]\n"
     ]
    }
   ],
   "source": [
    "# Creating array from list with type float \n",
    "a = np.array([[1, 2, 4], [5, 8, 7]], dtype = 'float') \n",
    "print (\"Array created using passed list:\\n\", a) "
   ]
  },
  {
   "cell_type": "code",
   "execution_count": 5,
   "metadata": {},
   "outputs": [
    {
     "name": "stdout",
     "output_type": "stream",
     "text": [
      "\n",
      "Array created using passed tuple:\n",
      " [1 3 2]\n"
     ]
    }
   ],
   "source": [
    "# Creating array from tuple \n",
    "b = np.array((1 , 3, 2)) \n",
    "print (\"\\nArray created using passed tuple:\\n\", b) \n"
   ]
  },
  {
   "cell_type": "code",
   "execution_count": 6,
   "metadata": {},
   "outputs": [
    {
     "name": "stdout",
     "output_type": "stream",
     "text": [
      "\n",
      "An array initialized with all zeros:\n",
      " [[0. 0. 0. 0.]\n",
      " [0. 0. 0. 0.]\n",
      " [0. 0. 0. 0.]]\n"
     ]
    }
   ],
   "source": [
    "  \n",
    "# Creating a 3X4 array with all zeros \n",
    "c = np.zeros((3, 4)) \n",
    "print (\"\\nAn array initialized with all zeros:\\n\", c) "
   ]
  },
  {
   "cell_type": "code",
   "execution_count": 7,
   "metadata": {},
   "outputs": [
    {
     "name": "stdout",
     "output_type": "stream",
     "text": [
      "\n",
      "An array initialized with all 6s.Array type is complex:\n",
      " [[6.+0.j 6.+0.j 6.+0.j]\n",
      " [6.+0.j 6.+0.j 6.+0.j]\n",
      " [6.+0.j 6.+0.j 6.+0.j]]\n"
     ]
    }
   ],
   "source": [
    "# Create a constant value array of complex type \n",
    "d = np.full((3, 3), 6, dtype = 'complex') \n",
    "print (\"\\nAn array initialized with all 6s.\" \n",
    "            \"Array type is complex:\\n\", d) \n"
   ]
  },
  {
   "cell_type": "code",
   "execution_count": 8,
   "metadata": {},
   "outputs": [
    {
     "name": "stdout",
     "output_type": "stream",
     "text": [
      "\n",
      "A random array:\n",
      " [[0.00937303 0.88280714]\n",
      " [0.67478114 0.68240576]]\n"
     ]
    }
   ],
   "source": [
    "# Create an array with random values \n",
    "e = np.random.random((2, 2)) \n",
    "print (\"\\nA random array:\\n\", e) \n"
   ]
  },
  {
   "cell_type": "code",
   "execution_count": 9,
   "metadata": {},
   "outputs": [
    {
     "name": "stdout",
     "output_type": "stream",
     "text": [
      "\n",
      "A sequential array with steps of 5:\n",
      " [ 0  5 10 15 20 25]\n"
     ]
    }
   ],
   "source": [
    "  \n",
    "# Create a sequence of integers  \n",
    "# from 0 to 30 with steps of 5 \n",
    "f = np.arange(0, 30, 5) \n",
    "print (\"\\nA sequential array with steps of 5:\\n\", f) "
   ]
  },
  {
   "cell_type": "code",
   "execution_count": 10,
   "metadata": {},
   "outputs": [
    {
     "name": "stdout",
     "output_type": "stream",
     "text": [
      "\n",
      "A sequential array with 10 values between0 and 5:\n",
      " [0.         0.55555556 1.11111111 1.66666667 2.22222222 2.77777778\n",
      " 3.33333333 3.88888889 4.44444444 5.        ]\n"
     ]
    }
   ],
   "source": [
    "# Create a sequence of 10 values in range 0 to 5 \n",
    "g = np.linspace(0, 5, 10) \n",
    "print (\"\\nA sequential array with 10 values between\"\n",
    "                                        \"0 and 5:\\n\", g) \n"
   ]
  },
  {
   "cell_type": "code",
   "execution_count": 11,
   "metadata": {},
   "outputs": [
    {
     "name": "stdout",
     "output_type": "stream",
     "text": [
      "\n",
      "Original array:\n",
      " [[1 2 3 4]\n",
      " [5 2 4 2]\n",
      " [1 2 0 1]]\n",
      "Reshaped array:\n",
      " [[[1 2 3]\n",
      "  [4 5 2]]\n",
      "\n",
      " [[4 2 1]\n",
      "  [2 0 1]]]\n"
     ]
    }
   ],
   "source": [
    "  \n",
    "# Reshaping 3X4 array to 2X2X3 array \n",
    "arr = np.array([[1, 2, 3, 4], \n",
    "                [5, 2, 4, 2], \n",
    "                [1, 2, 0, 1]]) \n",
    "  \n",
    "newarr = arr.reshape(2, 2, 3) \n",
    "  \n",
    "print (\"\\nOriginal array:\\n\", arr) \n",
    "print (\"Reshaped array:\\n\", newarr) "
   ]
  },
  {
   "cell_type": "code",
   "execution_count": 12,
   "metadata": {},
   "outputs": [
    {
     "name": "stdout",
     "output_type": "stream",
     "text": [
      "\n",
      "Original array:\n",
      " [[1 2 3]\n",
      " [4 5 6]]\n",
      "Fattened array:\n",
      " [1 2 3 4 5 6]\n"
     ]
    }
   ],
   "source": [
    "# Flatten array \n",
    "arr = np.array([[1, 2, 3], [4, 5, 6]]) \n",
    "flarr = arr.flatten() \n",
    "  \n",
    "print (\"\\nOriginal array:\\n\", arr) \n",
    "print (\"Fattened array:\\n\", flarr)"
   ]
  },
  {
   "cell_type": "code",
   "execution_count": null,
   "metadata": {},
   "outputs": [],
   "source": []
  }
 ],
 "metadata": {
  "kernelspec": {
   "display_name": "Python 3",
   "language": "python",
   "name": "python3"
  },
  "language_info": {
   "codemirror_mode": {
    "name": "ipython",
    "version": 3
   },
   "file_extension": ".py",
   "mimetype": "text/x-python",
   "name": "python",
   "nbconvert_exporter": "python",
   "pygments_lexer": "ipython3",
   "version": "3.7.3"
  }
 },
 "nbformat": 4,
 "nbformat_minor": 2
}
